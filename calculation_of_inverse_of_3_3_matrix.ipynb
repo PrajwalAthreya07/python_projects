{
  "nbformat": 4,
  "nbformat_minor": 0,
  "metadata": {
    "colab": {
      "name": "calculation of inverse of 3*3 matrix.ipynb",
      "provenance": [],
      "collapsed_sections": []
    },
    "kernelspec": {
      "name": "python3",
      "display_name": "Python 3"
    },
    "language_info": {
      "name": "python"
    }
  },
  "cells": [
    {
      "cell_type": "code",
      "metadata": {
        "colab": {
          "base_uri": "https://localhost:8080/"
        },
        "id": "33JuTbsuuFJb",
        "outputId": "0c411c6f-85df-4b45-eb38-e5a9fd97c79a"
      },
      "source": [
        "#import the numerical python(numpy) package\n",
        "import numpy as np\n",
        "\n",
        "#creating a 3*3 matrix array\n",
        "print(\"Given Matrix is\")\n",
        "matrix = np.array([[2,4,-8],[3,-7,9],[5,7,1]])\n",
        "\n",
        "#printing the matrix array\n",
        "print(matrix)\n",
        "print()\n",
        "\n",
        "#inverse matrix\n",
        "print(\"inverse of the given matrix is\")\n",
        "invmat = np.linalg.inv(matrix)\n",
        "print(invmat)\n",
        "print()\n",
        "\n",
        "#to check if the inverse matrix obtained is correct,we just need to multiply our matrix array and inverse matrix to get identity matrix(3*3) as the output.\n",
        "print(\"identity matrix obtained when matrix is multiplied with its inverse\")\n",
        "a = np.matmul(matrix , invmat)\n",
        "print(a)\n"
      ],
      "execution_count": 15,
      "outputs": [
        {
          "output_type": "stream",
          "text": [
            "Given Matrix is\n",
            "[[ 2  4 -8]\n",
            " [ 3 -7  9]\n",
            " [ 5  7  1]]\n",
            "\n",
            "inverse of the given matrix is\n",
            "[[ 0.16666667  0.14285714  0.04761905]\n",
            " [-0.1        -0.1         0.1       ]\n",
            " [-0.13333333 -0.01428571  0.06190476]]\n",
            "\n",
            "identity matrix obtained when matrix is multiplied with its inverse\n",
            "[[ 1.00000000e+00 -1.38777878e-17  0.00000000e+00]\n",
            " [-2.77555756e-17  1.00000000e+00  1.11022302e-16]\n",
            " [-2.77555756e-17 -4.68375339e-17  1.00000000e+00]]\n"
          ],
          "name": "stdout"
        }
      ]
    },
    {
      "cell_type": "code",
      "metadata": {
        "id": "ay4t42Wuv_NA"
      },
      "source": [
        "()"
      ],
      "execution_count": null,
      "outputs": []
    }
  ]
}