{
  "nbformat": 4,
  "nbformat_minor": 0,
  "metadata": {
    "colab": {
      "name": "password generator.ipynb",
      "provenance": [],
      "collapsed_sections": []
    },
    "kernelspec": {
      "name": "python3",
      "display_name": "Python 3"
    }
  },
  "cells": [
    {
      "cell_type": "code",
      "metadata": {
        "colab": {
          "base_uri": "https://localhost:8080/"
        },
        "id": "Qy13y6VbqNzA",
        "outputId": "cfcc4cea-4e59-45d2-bb7a-a8ebbbdecd88"
      },
      "source": [
        "import random\n",
        "from string import punctuation , digits , ascii_letters\n",
        "\n",
        "length = 12\n",
        "symbols = digits + punctuation  + ascii_letters\n",
        "secure_random = random.SystemRandom()\n",
        "password = \"\".join(secure_random.choice(symbols)\n",
        "                    for i in range(length))\n",
        "\n",
        "print(password)"
      ],
      "execution_count": 5,
      "outputs": [
        {
          "output_type": "stream",
          "text": [
            "O6di^}aAyJLb\n"
          ],
          "name": "stdout"
        }
      ]
    }
  ]
}